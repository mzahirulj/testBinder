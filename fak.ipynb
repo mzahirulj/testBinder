

def fak(n):
    if n==0:
        return 0
    elif n == 1:
        return 1
    else:
        return (n-2) + (n-1)
    

print([i**2 for i in range(1000])
print(fak(100))
